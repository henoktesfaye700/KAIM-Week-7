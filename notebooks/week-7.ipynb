{
 "cells": [
  {
   "cell_type": "code",
   "execution_count": 4,
   "metadata": {},
   "outputs": [
    {
     "name": "stderr",
     "output_type": "stream",
     "text": [
      "Cloning into 'yolov5'...\n"
     ]
    }
   ],
   "source": [
    "!git clone https://github.com/ultralytics/yolov5.git"
   ]
  },
  {
   "cell_type": "code",
   "execution_count": 1,
   "metadata": {},
   "outputs": [
    {
     "name": "stdout",
     "output_type": "stream",
     "text": [
      "c:\\Users\\Henok\\Desktop\\Week7\\KAIM-Week-7\\notebooks\\yolov5\n"
     ]
    },
    {
     "name": "stderr",
     "output_type": "stream",
     "text": [
      "C:\\Users\\Henok\\AppData\\Roaming\\Python\\Python313\\site-packages\\IPython\\core\\magics\\osm.py:417: UserWarning: This is now an optional IPython functionality, setting dhist requires you to install the `pickleshare` library.\n",
      "  self.shell.db['dhist'] = compress_dhist(dhist)[-100:]\n"
     ]
    },
    {
     "name": "stdout",
     "output_type": "stream",
     "text": [
      "Defaulting to user installation because normal site-packages is not writeable\n",
      "Requirement already satisfied: gitpython>=3.1.30 in c:\\users\\henok\\appdata\\roaming\\python\\python313\\site-packages (from -r requirements.txt (line 5)) (3.1.44)\n",
      "Requirement already satisfied: matplotlib>=3.3 in c:\\users\\henok\\appdata\\roaming\\python\\python313\\site-packages (from -r requirements.txt (line 6)) (3.10.0)\n",
      "Requirement already satisfied: numpy>=1.23.5 in c:\\users\\henok\\appdata\\roaming\\python\\python313\\site-packages (from -r requirements.txt (line 7)) (2.1.1)\n",
      "Requirement already satisfied: opencv-python>=4.1.1 in c:\\users\\henok\\appdata\\roaming\\python\\python313\\site-packages (from -r requirements.txt (line 8)) (4.11.0.86)\n",
      "Requirement already satisfied: pillow>=10.3.0 in c:\\users\\henok\\appdata\\roaming\\python\\python313\\site-packages (from -r requirements.txt (line 9)) (11.0.0)\n",
      "Requirement already satisfied: psutil in c:\\users\\henok\\appdata\\roaming\\python\\python313\\site-packages (from -r requirements.txt (line 10)) (6.1.0)\n",
      "Requirement already satisfied: PyYAML>=5.3.1 in c:\\users\\henok\\appdata\\roaming\\python\\python313\\site-packages (from -r requirements.txt (line 11)) (6.0.2)\n",
      "Requirement already satisfied: requests>=2.32.2 in c:\\users\\henok\\appdata\\roaming\\python\\python313\\site-packages (from -r requirements.txt (line 12)) (2.32.3)\n",
      "Requirement already satisfied: scipy>=1.4.1 in c:\\users\\henok\\appdata\\roaming\\python\\python313\\site-packages (from -r requirements.txt (line 13)) (1.15.1)\n",
      "Requirement already satisfied: thop>=0.1.1 in c:\\users\\henok\\appdata\\roaming\\python\\python313\\site-packages (from -r requirements.txt (line 14)) (0.1.1.post2209072238)\n",
      "Requirement already satisfied: torch>=1.8.0 in c:\\users\\henok\\appdata\\roaming\\python\\python313\\site-packages (from -r requirements.txt (line 15)) (2.6.0)\n",
      "Requirement already satisfied: torchvision>=0.9.0 in c:\\users\\henok\\appdata\\roaming\\python\\python313\\site-packages (from -r requirements.txt (line 16)) (0.21.0)\n",
      "Requirement already satisfied: tqdm>=4.66.3 in c:\\users\\henok\\appdata\\roaming\\python\\python313\\site-packages (from -r requirements.txt (line 17)) (4.67.1)\n",
      "Requirement already satisfied: ultralytics>=8.2.34 in c:\\users\\henok\\appdata\\roaming\\python\\python313\\site-packages (from -r requirements.txt (line 18)) (8.3.70)\n",
      "Requirement already satisfied: pandas>=1.1.4 in c:\\users\\henok\\appdata\\roaming\\python\\python313\\site-packages (from -r requirements.txt (line 27)) (2.2.3)\n",
      "Requirement already satisfied: seaborn>=0.11.0 in c:\\users\\henok\\appdata\\roaming\\python\\python313\\site-packages (from -r requirements.txt (line 28)) (0.13.2)\n",
      "Requirement already satisfied: setuptools>=70.0.0 in c:\\users\\henok\\appdata\\roaming\\python\\python313\\site-packages (from -r requirements.txt (line 42)) (75.8.0)\n",
      "Requirement already satisfied: gitdb<5,>=4.0.1 in c:\\users\\henok\\appdata\\roaming\\python\\python313\\site-packages (from gitpython>=3.1.30->-r requirements.txt (line 5)) (4.0.12)\n",
      "Requirement already satisfied: contourpy>=1.0.1 in c:\\users\\henok\\appdata\\roaming\\python\\python313\\site-packages (from matplotlib>=3.3->-r requirements.txt (line 6)) (1.3.1)\n",
      "Requirement already satisfied: cycler>=0.10 in c:\\users\\henok\\appdata\\roaming\\python\\python313\\site-packages (from matplotlib>=3.3->-r requirements.txt (line 6)) (0.12.1)\n",
      "Requirement already satisfied: fonttools>=4.22.0 in c:\\users\\henok\\appdata\\roaming\\python\\python313\\site-packages (from matplotlib>=3.3->-r requirements.txt (line 6)) (4.55.3)\n",
      "Requirement already satisfied: kiwisolver>=1.3.1 in c:\\users\\henok\\appdata\\roaming\\python\\python313\\site-packages (from matplotlib>=3.3->-r requirements.txt (line 6)) (1.4.7)\n",
      "Requirement already satisfied: packaging>=20.0 in c:\\users\\henok\\appdata\\roaming\\python\\python313\\site-packages (from matplotlib>=3.3->-r requirements.txt (line 6)) (24.2)\n",
      "Requirement already satisfied: pyparsing>=2.3.1 in c:\\users\\henok\\appdata\\roaming\\python\\python313\\site-packages (from matplotlib>=3.3->-r requirements.txt (line 6)) (3.2.0)\n",
      "Requirement already satisfied: python-dateutil>=2.7 in c:\\users\\henok\\appdata\\roaming\\python\\python313\\site-packages (from matplotlib>=3.3->-r requirements.txt (line 6)) (2.9.0.post0)\n",
      "Requirement already satisfied: charset-normalizer<4,>=2 in c:\\users\\henok\\appdata\\roaming\\python\\python313\\site-packages (from requests>=2.32.2->-r requirements.txt (line 12)) (3.4.0)\n",
      "Requirement already satisfied: idna<4,>=2.5 in c:\\users\\henok\\appdata\\roaming\\python\\python313\\site-packages (from requests>=2.32.2->-r requirements.txt (line 12)) (3.10)\n",
      "Requirement already satisfied: urllib3<3,>=1.21.1 in c:\\users\\henok\\appdata\\roaming\\python\\python313\\site-packages (from requests>=2.32.2->-r requirements.txt (line 12)) (2.2.3)\n",
      "Requirement already satisfied: certifi>=2017.4.17 in c:\\users\\henok\\appdata\\roaming\\python\\python313\\site-packages (from requests>=2.32.2->-r requirements.txt (line 12)) (2024.8.30)\n",
      "Requirement already satisfied: filelock in c:\\users\\henok\\appdata\\roaming\\python\\python313\\site-packages (from torch>=1.8.0->-r requirements.txt (line 15)) (3.17.0)\n",
      "Requirement already satisfied: typing-extensions>=4.10.0 in c:\\users\\henok\\appdata\\roaming\\python\\python313\\site-packages (from torch>=1.8.0->-r requirements.txt (line 15)) (4.12.2)\n",
      "Requirement already satisfied: networkx in c:\\users\\henok\\appdata\\roaming\\python\\python313\\site-packages (from torch>=1.8.0->-r requirements.txt (line 15)) (3.4.2)\n",
      "Requirement already satisfied: jinja2 in c:\\users\\henok\\appdata\\roaming\\python\\python313\\site-packages (from torch>=1.8.0->-r requirements.txt (line 15)) (3.1.5)\n",
      "Requirement already satisfied: fsspec in c:\\users\\henok\\appdata\\roaming\\python\\python313\\site-packages (from torch>=1.8.0->-r requirements.txt (line 15)) (2024.12.0)\n",
      "Requirement already satisfied: sympy==1.13.1 in c:\\users\\henok\\appdata\\roaming\\python\\python313\\site-packages (from torch>=1.8.0->-r requirements.txt (line 15)) (1.13.1)\n",
      "Requirement already satisfied: mpmath<1.4,>=1.1.0 in c:\\users\\henok\\appdata\\roaming\\python\\python313\\site-packages (from sympy==1.13.1->torch>=1.8.0->-r requirements.txt (line 15)) (1.3.0)\n",
      "Requirement already satisfied: colorama in c:\\users\\henok\\appdata\\roaming\\python\\python313\\site-packages (from tqdm>=4.66.3->-r requirements.txt (line 17)) (0.4.6)\n",
      "Requirement already satisfied: py-cpuinfo in c:\\users\\henok\\appdata\\roaming\\python\\python313\\site-packages (from ultralytics>=8.2.34->-r requirements.txt (line 18)) (9.0.0)\n",
      "Requirement already satisfied: ultralytics-thop>=2.0.0 in c:\\users\\henok\\appdata\\roaming\\python\\python313\\site-packages (from ultralytics>=8.2.34->-r requirements.txt (line 18)) (2.0.14)\n",
      "Requirement already satisfied: pytz>=2020.1 in c:\\users\\henok\\appdata\\roaming\\python\\python313\\site-packages (from pandas>=1.1.4->-r requirements.txt (line 27)) (2024.2)\n",
      "Requirement already satisfied: tzdata>=2022.7 in c:\\users\\henok\\appdata\\roaming\\python\\python313\\site-packages (from pandas>=1.1.4->-r requirements.txt (line 27)) (2024.2)\n",
      "Requirement already satisfied: smmap<6,>=3.0.1 in c:\\users\\henok\\appdata\\roaming\\python\\python313\\site-packages (from gitdb<5,>=4.0.1->gitpython>=3.1.30->-r requirements.txt (line 5)) (5.0.2)\n",
      "Requirement already satisfied: six>=1.5 in c:\\users\\henok\\appdata\\roaming\\python\\python313\\site-packages (from python-dateutil>=2.7->matplotlib>=3.3->-r requirements.txt (line 6)) (1.17.0)\n",
      "Requirement already satisfied: MarkupSafe>=2.0 in c:\\users\\henok\\appdata\\roaming\\python\\python313\\site-packages (from jinja2->torch>=1.8.0->-r requirements.txt (line 15)) (3.0.2)\n",
      "Note: you may need to restart the kernel to use updated packages.\n"
     ]
    },
    {
     "name": "stderr",
     "output_type": "stream",
     "text": [
      "\n",
      "[notice] A new release of pip is available: 24.3.1 -> 25.0\n",
      "[notice] To update, run: python.exe -m pip install --upgrade pip\n"
     ]
    }
   ],
   "source": [
    "%cd yolov5/\n",
    "%pip install -r requirements.txt"
   ]
  },
  {
   "cell_type": "code",
   "execution_count": 3,
   "metadata": {},
   "outputs": [
    {
     "name": "stdout",
     "output_type": "stream",
     "text": [
      "Defaulting to user installation because normal site-packages is not writeable\n",
      "Requirement already satisfied: pip in c:\\users\\henok\\appdata\\roaming\\python\\python313\\site-packages (25.0)\n"
     ]
    }
   ],
   "source": [
    "!python.exe -m pip install --upgrade pip"
   ]
  },
  {
   "cell_type": "code",
   "execution_count": null,
   "metadata": {},
   "outputs": [],
   "source": []
  },
  {
   "cell_type": "code",
   "execution_count": null,
   "metadata": {},
   "outputs": [],
   "source": []
  },
  {
   "cell_type": "code",
   "execution_count": null,
   "metadata": {},
   "outputs": [],
   "source": []
  },
  {
   "cell_type": "code",
   "execution_count": null,
   "metadata": {},
   "outputs": [],
   "source": []
  },
  {
   "cell_type": "code",
   "execution_count": null,
   "metadata": {},
   "outputs": [],
   "source": []
  },
  {
   "cell_type": "code",
   "execution_count": null,
   "metadata": {},
   "outputs": [],
   "source": []
  },
  {
   "cell_type": "code",
   "execution_count": null,
   "metadata": {},
   "outputs": [],
   "source": []
  },
  {
   "cell_type": "code",
   "execution_count": null,
   "metadata": {},
   "outputs": [],
   "source": []
  },
  {
   "cell_type": "code",
   "execution_count": null,
   "metadata": {},
   "outputs": [],
   "source": []
  },
  {
   "cell_type": "code",
   "execution_count": null,
   "metadata": {},
   "outputs": [],
   "source": []
  },
  {
   "cell_type": "code",
   "execution_count": null,
   "metadata": {},
   "outputs": [],
   "source": []
  },
  {
   "cell_type": "code",
   "execution_count": null,
   "metadata": {},
   "outputs": [],
   "source": []
  },
  {
   "cell_type": "code",
   "execution_count": null,
   "metadata": {},
   "outputs": [],
   "source": []
  },
  {
   "cell_type": "code",
   "execution_count": null,
   "metadata": {},
   "outputs": [],
   "source": []
  },
  {
   "cell_type": "code",
   "execution_count": null,
   "metadata": {},
   "outputs": [],
   "source": []
  }
 ],
 "metadata": {
  "kernelspec": {
   "display_name": "Python 3",
   "language": "python",
   "name": "python3"
  },
  "language_info": {
   "codemirror_mode": {
    "name": "ipython",
    "version": 3
   },
   "file_extension": ".py",
   "mimetype": "text/x-python",
   "name": "python",
   "nbconvert_exporter": "python",
   "pygments_lexer": "ipython3",
   "version": "3.13.0"
  }
 },
 "nbformat": 4,
 "nbformat_minor": 2
}
