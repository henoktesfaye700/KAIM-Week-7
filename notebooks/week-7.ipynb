{
 "cells": [
  {
   "cell_type": "code",
   "execution_count": 4,
   "metadata": {},
   "outputs": [
    {
     "name": "stderr",
     "output_type": "stream",
     "text": [
      "Cloning into 'yolov5'...\n"
     ]
    }
   ],
   "source": [
    "!git clone https://github.com/ultralytics/yolov5.git"
   ]
  },
  {
   "cell_type": "code",
   "execution_count": 1,
   "metadata": {},
   "outputs": [
    {
     "name": "stdout",
     "output_type": "stream",
     "text": [
      "c:\\Users\\Henok\\Desktop\\Week7\\KAIM-Week-7\\notebooks\\yolov5\n"
     ]
    },
    {
     "name": "stderr",
     "output_type": "stream",
     "text": [
      "C:\\Users\\Henok\\AppData\\Roaming\\Python\\Python313\\site-packages\\IPython\\core\\magics\\osm.py:417: UserWarning: This is now an optional IPython functionality, setting dhist requires you to install the `pickleshare` library.\n",
      "  self.shell.db['dhist'] = compress_dhist(dhist)[-100:]\n"
     ]
    },
    {
     "name": "stdout",
     "output_type": "stream",
     "text": [
      "Defaulting to user installation because normal site-packages is not writeable\n",
      "Requirement already satisfied: gitpython>=3.1.30 in c:\\users\\henok\\appdata\\roaming\\python\\python313\\site-packages (from -r requirements.txt (line 5)) (3.1.44)\n",
      "Requirement already satisfied: matplotlib>=3.3 in c:\\users\\henok\\appdata\\roaming\\python\\python313\\site-packages (from -r requirements.txt (line 6)) (3.10.0)\n",
      "Requirement already satisfied: numpy>=1.23.5 in c:\\users\\henok\\appdata\\roaming\\python\\python313\\site-packages (from -r requirements.txt (line 7)) (2.1.1)\n",
      "Requirement already satisfied: opencv-python>=4.1.1 in c:\\users\\henok\\appdata\\roaming\\python\\python313\\site-packages (from -r requirements.txt (line 8)) (4.11.0.86)\n",
      "Requirement already satisfied: pillow>=10.3.0 in c:\\users\\henok\\appdata\\roaming\\python\\python313\\site-packages (from -r requirements.txt (line 9)) (11.0.0)\n",
      "Requirement already satisfied: psutil in c:\\users\\henok\\appdata\\roaming\\python\\python313\\site-packages (from -r requirements.txt (line 10)) (6.1.0)\n",
      "Requirement already satisfied: PyYAML>=5.3.1 in c:\\users\\henok\\appdata\\roaming\\python\\python313\\site-packages (from -r requirements.txt (line 11)) (6.0.2)\n",
      "Requirement already satisfied: requests>=2.32.2 in c:\\users\\henok\\appdata\\roaming\\python\\python313\\site-packages (from -r requirements.txt (line 12)) (2.32.3)\n",
      "Requirement already satisfied: scipy>=1.4.1 in c:\\users\\henok\\appdata\\roaming\\python\\python313\\site-packages (from -r requirements.txt (line 13)) (1.15.1)\n",
      "Requirement already satisfied: thop>=0.1.1 in c:\\users\\henok\\appdata\\roaming\\python\\python313\\site-packages (from -r requirements.txt (line 14)) (0.1.1.post2209072238)\n",
      "Requirement already satisfied: torch>=1.8.0 in c:\\users\\henok\\appdata\\roaming\\python\\python313\\site-packages (from -r requirements.txt (line 15)) (2.6.0)\n",
      "Requirement already satisfied: torchvision>=0.9.0 in c:\\users\\henok\\appdata\\roaming\\python\\python313\\site-packages (from -r requirements.txt (line 16)) (0.21.0)\n",
      "Requirement already satisfied: tqdm>=4.66.3 in c:\\users\\henok\\appdata\\roaming\\python\\python313\\site-packages (from -r requirements.txt (line 17)) (4.67.1)\n",
      "Requirement already satisfied: ultralytics>=8.2.34 in c:\\users\\henok\\appdata\\roaming\\python\\python313\\site-packages (from -r requirements.txt (line 18)) (8.3.70)\n",
      "Requirement already satisfied: pandas>=1.1.4 in c:\\users\\henok\\appdata\\roaming\\python\\python313\\site-packages (from -r requirements.txt (line 27)) (2.2.3)\n",
      "Requirement already satisfied: seaborn>=0.11.0 in c:\\users\\henok\\appdata\\roaming\\python\\python313\\site-packages (from -r requirements.txt (line 28)) (0.13.2)\n",
      "Requirement already satisfied: setuptools>=70.0.0 in c:\\users\\henok\\appdata\\roaming\\python\\python313\\site-packages (from -r requirements.txt (line 42)) (75.8.0)\n",
      "Requirement already satisfied: gitdb<5,>=4.0.1 in c:\\users\\henok\\appdata\\roaming\\python\\python313\\site-packages (from gitpython>=3.1.30->-r requirements.txt (line 5)) (4.0.12)\n",
      "Requirement already satisfied: contourpy>=1.0.1 in c:\\users\\henok\\appdata\\roaming\\python\\python313\\site-packages (from matplotlib>=3.3->-r requirements.txt (line 6)) (1.3.1)\n",
      "Requirement already satisfied: cycler>=0.10 in c:\\users\\henok\\appdata\\roaming\\python\\python313\\site-packages (from matplotlib>=3.3->-r requirements.txt (line 6)) (0.12.1)\n",
      "Requirement already satisfied: fonttools>=4.22.0 in c:\\users\\henok\\appdata\\roaming\\python\\python313\\site-packages (from matplotlib>=3.3->-r requirements.txt (line 6)) (4.55.3)\n",
      "Requirement already satisfied: kiwisolver>=1.3.1 in c:\\users\\henok\\appdata\\roaming\\python\\python313\\site-packages (from matplotlib>=3.3->-r requirements.txt (line 6)) (1.4.7)\n",
      "Requirement already satisfied: packaging>=20.0 in c:\\users\\henok\\appdata\\roaming\\python\\python313\\site-packages (from matplotlib>=3.3->-r requirements.txt (line 6)) (24.2)\n",
      "Requirement already satisfied: pyparsing>=2.3.1 in c:\\users\\henok\\appdata\\roaming\\python\\python313\\site-packages (from matplotlib>=3.3->-r requirements.txt (line 6)) (3.2.0)\n",
      "Requirement already satisfied: python-dateutil>=2.7 in c:\\users\\henok\\appdata\\roaming\\python\\python313\\site-packages (from matplotlib>=3.3->-r requirements.txt (line 6)) (2.9.0.post0)\n",
      "Requirement already satisfied: charset-normalizer<4,>=2 in c:\\users\\henok\\appdata\\roaming\\python\\python313\\site-packages (from requests>=2.32.2->-r requirements.txt (line 12)) (3.4.0)\n",
      "Requirement already satisfied: idna<4,>=2.5 in c:\\users\\henok\\appdata\\roaming\\python\\python313\\site-packages (from requests>=2.32.2->-r requirements.txt (line 12)) (3.10)\n",
      "Requirement already satisfied: urllib3<3,>=1.21.1 in c:\\users\\henok\\appdata\\roaming\\python\\python313\\site-packages (from requests>=2.32.2->-r requirements.txt (line 12)) (2.2.3)\n",
      "Requirement already satisfied: certifi>=2017.4.17 in c:\\users\\henok\\appdata\\roaming\\python\\python313\\site-packages (from requests>=2.32.2->-r requirements.txt (line 12)) (2024.8.30)\n",
      "Requirement already satisfied: filelock in c:\\users\\henok\\appdata\\roaming\\python\\python313\\site-packages (from torch>=1.8.0->-r requirements.txt (line 15)) (3.17.0)\n",
      "Requirement already satisfied: typing-extensions>=4.10.0 in c:\\users\\henok\\appdata\\roaming\\python\\python313\\site-packages (from torch>=1.8.0->-r requirements.txt (line 15)) (4.12.2)\n",
      "Requirement already satisfied: networkx in c:\\users\\henok\\appdata\\roaming\\python\\python313\\site-packages (from torch>=1.8.0->-r requirements.txt (line 15)) (3.4.2)\n",
      "Requirement already satisfied: jinja2 in c:\\users\\henok\\appdata\\roaming\\python\\python313\\site-packages (from torch>=1.8.0->-r requirements.txt (line 15)) (3.1.5)\n",
      "Requirement already satisfied: fsspec in c:\\users\\henok\\appdata\\roaming\\python\\python313\\site-packages (from torch>=1.8.0->-r requirements.txt (line 15)) (2024.12.0)\n",
      "Requirement already satisfied: sympy==1.13.1 in c:\\users\\henok\\appdata\\roaming\\python\\python313\\site-packages (from torch>=1.8.0->-r requirements.txt (line 15)) (1.13.1)\n",
      "Requirement already satisfied: mpmath<1.4,>=1.1.0 in c:\\users\\henok\\appdata\\roaming\\python\\python313\\site-packages (from sympy==1.13.1->torch>=1.8.0->-r requirements.txt (line 15)) (1.3.0)\n",
      "Requirement already satisfied: colorama in c:\\users\\henok\\appdata\\roaming\\python\\python313\\site-packages (from tqdm>=4.66.3->-r requirements.txt (line 17)) (0.4.6)\n",
      "Requirement already satisfied: py-cpuinfo in c:\\users\\henok\\appdata\\roaming\\python\\python313\\site-packages (from ultralytics>=8.2.34->-r requirements.txt (line 18)) (9.0.0)\n",
      "Requirement already satisfied: ultralytics-thop>=2.0.0 in c:\\users\\henok\\appdata\\roaming\\python\\python313\\site-packages (from ultralytics>=8.2.34->-r requirements.txt (line 18)) (2.0.14)\n",
      "Requirement already satisfied: pytz>=2020.1 in c:\\users\\henok\\appdata\\roaming\\python\\python313\\site-packages (from pandas>=1.1.4->-r requirements.txt (line 27)) (2024.2)\n",
      "Requirement already satisfied: tzdata>=2022.7 in c:\\users\\henok\\appdata\\roaming\\python\\python313\\site-packages (from pandas>=1.1.4->-r requirements.txt (line 27)) (2024.2)\n",
      "Requirement already satisfied: smmap<6,>=3.0.1 in c:\\users\\henok\\appdata\\roaming\\python\\python313\\site-packages (from gitdb<5,>=4.0.1->gitpython>=3.1.30->-r requirements.txt (line 5)) (5.0.2)\n",
      "Requirement already satisfied: six>=1.5 in c:\\users\\henok\\appdata\\roaming\\python\\python313\\site-packages (from python-dateutil>=2.7->matplotlib>=3.3->-r requirements.txt (line 6)) (1.17.0)\n",
      "Requirement already satisfied: MarkupSafe>=2.0 in c:\\users\\henok\\appdata\\roaming\\python\\python313\\site-packages (from jinja2->torch>=1.8.0->-r requirements.txt (line 15)) (3.0.2)\n",
      "Note: you may need to restart the kernel to use updated packages.\n"
     ]
    },
    {
     "name": "stderr",
     "output_type": "stream",
     "text": [
      "\n",
      "[notice] A new release of pip is available: 24.3.1 -> 25.0\n",
      "[notice] To update, run: python.exe -m pip install --upgrade pip\n"
     ]
    }
   ],
   "source": [
    "%cd yolov5/\n",
    "%pip install -r requirements.txt"
   ]
  },
  {
   "cell_type": "code",
   "execution_count": 3,
   "metadata": {},
   "outputs": [
    {
     "name": "stdout",
     "output_type": "stream",
     "text": [
      "Defaulting to user installation because normal site-packages is not writeable\n",
      "Requirement already satisfied: pip in c:\\users\\henok\\appdata\\roaming\\python\\python313\\site-packages (25.0)\n"
     ]
    }
   ],
   "source": [
    "!python.exe -m pip install --upgrade pip"
   ]
  },
  {
   "cell_type": "code",
   "execution_count": null,
   "metadata": {},
   "outputs": [
    {
     "name": "stderr",
     "output_type": "stream",
     "text": [
      "C:\\Users\\Henok\\AppData\\Roaming\\Python\\Python313\\site-packages\\torch\\hub.py:330: UserWarning: You are about to download and run code from an untrusted repository. In a future release, this won't be allowed. To add the repository to your trusted list, change the command to {calling_fn}(..., trust_repo=False) and a command prompt will appear asking for an explicit confirmation of trust, or load(..., trust_repo=True), which will assume that the prompt is to be answered with 'yes'. You can also use load(..., trust_repo='check') which will only prompt for confirmation if the repo is not already trusted. This will eventually be the default behaviour\n",
      "  warnings.warn(\n",
      "Downloading: \"https://github.com/ultralytics/yolov5/zipball/master\" to C:\\Users\\Henok/.cache\\torch\\hub\\master.zip\n"
     ]
    },
    {
     "name": "stdout",
     "output_type": "stream",
     "text": [
      "Creating new Ultralytics Settings v0.0.6 file  \n",
      "View Ultralytics Settings with 'yolo settings' or at 'C:\\Users\\Henok\\AppData\\Roaming\\Ultralytics\\settings.json'\n",
      "Update Settings with 'yolo settings key=value', i.e. 'yolo settings runs_dir=path/to/dir'. For help see https://docs.ultralytics.com/quickstart/#ultralytics-settings.\n"
     ]
    }
   ],
   "source": [
    "import torch\n",
    "import cv2\n",
    "import os\n",
    "\n",
    "# Load pre-trained YOLOv5 model\n",
    "model = torch.hub.load('ultralytics/yolov5', 'yolov5s')\n",
    "\n",
    "# Path to the directory containing the images\n",
    "image_folder = '../data'\n",
    "\n",
    "# Loop through the images in the folder and run object detection\n",
    "for img_name in os.listdir(image_folder):\n",
    "    img_path = os.path.join(image_folder, img_name)\n",
    "\n",
    "    # Check if the file is an image file (you might need to adjust the extensions)\n",
    "    if not img_name.lower().endswith(('.png', '.jpg', '.jpeg', '.bmp')):\n",
    "        print(f\"Skipping {img_name} - not an image file.\")\n",
    "        continue  # Skip to the next file\n",
    "\n",
    "    # Read the image using OpenCV\n",
    "    img = cv2.imread(img_path)\n",
    "\n",
    "    # Check if image was loaded successfully\n",
    "    if img is None:\n",
    "        print(f\"Error loading image: {img_path}\")\n",
    "        continue  # Skip to the next file\n",
    "\n",
    "    # Run object detection\n",
    "    results = model(img)\n",
    "\n",
    "    # Show the results\n",
    "    results.show()\n",
    "    results.save(save_dir='detection_results/')"
   ]
  },
  {
   "cell_type": "code",
   "execution_count": null,
   "metadata": {},
   "outputs": [],
   "source": [
    "import os\n",
    "import pandas as pd\n",
    "import torch\n",
    "\n",
    "# Folder containing the images to run object detection on\n",
    "image_folder = '../data'\n",
    "\n",
    "# Step 1: Initialize the YOLO model (assuming you're using YOLOv5)\n",
    "# The model is loaded from the Ultralytics YOLOv5 hub\n",
    "model = torch.hub.load('ultralytics/yolov5', 'yolov5s', pretrained=True)\n",
    "\n",
    "# Step 2: Initialize an empty DataFrame to store all detection results\n",
    "# We will append detection results for each image into this DataFrame\n",
    "all_detections = pd.DataFrame()\n",
    "\n",
    "# Step 3: Loop through each image in the folder and run object detection\n",
    "for img_name in os.listdir(image_folder):\n",
    "    img_path = os.path.join(image_folder, img_name)\n",
    "\n",
    "    # Check if the current item is a file and not a directory\n",
    "    if not os.path.isfile(img_path):\n",
    "        continue  # Skip directories or other non-file items\n",
    "\n",
    "    # Step 4: Run object detection on the image\n",
    "    results = model(img_path)\n",
    "\n",
    "    # Step 5: Extract detection data (bounding box, class labels, and confidence scores)\n",
    "    detections = results.pandas().xyxy[0]  # Pandas dataframe of detection results\n",
    "\n",
    "    # Step 6: Add a new column for the image name so we can track which image the detections belong to\n",
    "    detections['image_name'] = img_name\n",
    "\n",
    "    # Print detections for debugging/verification\n",
    "    print(f\"Detections for {img_name}:\")\n",
    "    print(detections[['name', 'confidence', 'xmin', 'ymin', 'xmax', 'ymax']])\n",
    "\n",
    "    # Step 7: Append the detection results of the current image to the all_detections DataFrame\n",
    "    all_detections = pd.concat([all_detections, detections], ignore_index=True)\n",
    "\n",
    "# Step 8: Save all detection results into a single CSV file\n",
    "# The file 'all_detections.csv' will contain the detections of all images processed\n",
    "all_detections.to_csv('all_detections_new.csv', index=False)\n",
    "\n",
    "print(\"All detection results saved to 'all_detections.csv'\")"
   ]
  },
  {
   "cell_type": "code",
   "execution_count": null,
   "metadata": {},
   "outputs": [],
   "source": [
    "import os\n",
    "import logging\n",
    "from pathlib import Path\n",
    "import torch\n",
    "\n",
    "# Step 1: Set up logging to track the process and capture errors\n",
    "logging.basicConfig(filename='detection_process.log', level=logging.INFO,\n",
    "                    format='%(asctime)s - %(levelname)s - %(message)s')\n",
    "\n",
    "logging.info('Starting object detection and result extraction...')\n",
    "\n",
    "# Path to your folder containing the images\n",
    "image_folder = '../data'\n",
    "\n",
    "# Step 2: Initialize the YOLO model (assuming you're using YOLOv5)\n",
    "model = torch.hub.load('ultralytics/yolov5', 'yolov5s', pretrained=True)\n",
    "\n",
    "# Create a folder to store CSV detection results if it doesn't exist\n",
    "output_csv_folder = 'detection_results'\n",
    "Path(output_csv_folder).mkdir(exist_ok=True)\n",
    "\n",
    "# Step 3: Process results to extract bounding box, class labels, and confidence scores\n",
    "for img_name in os.listdir(image_folder):\n",
    "    img_path = os.path.join(image_folder, img_name)\n",
    "\n",
    "    # Check if the current item is a file and not a directory\n",
    "    if not os.path.isfile(img_path):\n",
    "        logging.warning(f'Skipped non-file item: {img_name}')\n",
    "        continue  # Skip directories or other non-file items\n",
    "\n",
    "    try:\n",
    "        # Run object detection on the image\n",
    "        results = model(img_path)\n",
    "\n",
    "        # Extract data from results (bounding box, confidence scores, class labels)\n",
    "        detections = results.pandas().xyxy[0]  # Pandas dataframe of detection results\n",
    "\n",
    "        logging.info(f\"Detections for {img_name}: {len(detections)} objects found\")\n",
    "\n",
    "        # Display relevant columns\n",
    "        print(f\"Detections for {img_name}:\")\n",
    "        print(detections[['name', 'confidence', 'xmin', 'ymin', 'xmax', 'ymax']])\n",
    "\n",
    "        # Step 4: Save detections to CSV file\n",
    "        csv_filename = os.path.join(output_csv_folder, f'{img_name}_detections.csv')\n",
    "        detections[['name', 'confidence', 'xmin', 'ymin', 'xmax', 'ymax']].to_csv(csv_filename, index=False)\n",
    "\n",
    "        logging.info(f'Saved detections for {img_name} to {csv_filename}')\n",
    "\n",
    "    except Exception as e:\n",
    "        logging.error(f'Error processing {img_name}: {str(e)}')\n",
    "        print(f\"An error occurred with {img_name}: {str(e)}\")\n",
    "\n",
    "logging.info('Object detection and result storage process completed.')"
   ]
  },
  {
   "cell_type": "code",
   "execution_count": null,
   "metadata": {},
   "outputs": [],
   "source": [
    "import os\n",
    "import pandas as pd\n",
    "\n",
    "# Folder containing all the individual detection CSV files\n",
    "csv_folder = 'detection_results'\n",
    "\n",
    "# List to store individual dataframes\n",
    "dataframes = []\n",
    "\n",
    "# Loop through each file in the folder\n",
    "for csv_file in os.listdir(csv_folder):\n",
    "    if csv_file.endswith('.csv'):  # Check if it's a CSV file\n",
    "        csv_path = os.path.join(csv_folder, csv_file)\n",
    "\n",
    "        # Read the CSV file into a dataframe\n",
    "        df = pd.read_csv(csv_path)\n",
    "\n",
    "        # Add a column to identify the image from which the detections came\n",
    "        df['image_name'] = csv_file.replace('_detections.csv', '')\n",
    "\n",
    "        # Append the dataframe to the list\n",
    "        dataframes.append(df)\n",
    "\n",
    "# Concatenate all dataframes into a single dataframe\n",
    "merged_df = pd.concat(dataframes, ignore_index=True)\n",
    "\n",
    "# Save the merged dataframe to a new CSV file\n",
    "merged_df.to_csv('merged_detections.csv', index=False)\n",
    "\n",
    "print('All detections have been merged into merged_detections.csv')"
   ]
  },
  {
   "cell_type": "code",
   "execution_count": null,
   "metadata": {},
   "outputs": [],
   "source": []
  },
  {
   "cell_type": "code",
   "execution_count": null,
   "metadata": {},
   "outputs": [],
   "source": []
  },
  {
   "cell_type": "code",
   "execution_count": null,
   "metadata": {},
   "outputs": [],
   "source": []
  },
  {
   "cell_type": "code",
   "execution_count": null,
   "metadata": {},
   "outputs": [],
   "source": []
  },
  {
   "cell_type": "code",
   "execution_count": null,
   "metadata": {},
   "outputs": [],
   "source": []
  },
  {
   "cell_type": "code",
   "execution_count": null,
   "metadata": {},
   "outputs": [],
   "source": []
  },
  {
   "cell_type": "code",
   "execution_count": null,
   "metadata": {},
   "outputs": [],
   "source": []
  },
  {
   "cell_type": "code",
   "execution_count": null,
   "metadata": {},
   "outputs": [],
   "source": []
  },
  {
   "cell_type": "code",
   "execution_count": null,
   "metadata": {},
   "outputs": [],
   "source": []
  },
  {
   "cell_type": "code",
   "execution_count": null,
   "metadata": {},
   "outputs": [],
   "source": []
  },
  {
   "cell_type": "code",
   "execution_count": null,
   "metadata": {},
   "outputs": [],
   "source": []
  }
 ],
 "metadata": {
  "kernelspec": {
   "display_name": "Python 3",
   "language": "python",
   "name": "python3"
  },
  "language_info": {
   "codemirror_mode": {
    "name": "ipython",
    "version": 3
   },
   "file_extension": ".py",
   "mimetype": "text/x-python",
   "name": "python",
   "nbconvert_exporter": "python",
   "pygments_lexer": "ipython3",
   "version": "3.13.0"
  }
 },
 "nbformat": 4,
 "nbformat_minor": 2
}
